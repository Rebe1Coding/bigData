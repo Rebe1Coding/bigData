{
  "nbformat": 4,
  "nbformat_minor": 0,
  "metadata": {
    "colab": {
      "provenance": []
    },
    "kernelspec": {
      "name": "python3",
      "display_name": "Python 3"
    },
    "language_info": {
      "name": "python"
    }
  },
  "cells": [
    {
      "cell_type": "markdown",
      "source": [
        "# Распознавание цифровых изображений"
      ],
      "metadata": {
        "id": "bYJWAnOOSr1r"
      }
    },
    {
      "cell_type": "markdown",
      "source": [
        "### Импорты библиотек"
      ],
      "metadata": {
        "id": "QqZqz0LYSzIS"
      }
    },
    {
      "cell_type": "code",
      "execution_count": null,
      "metadata": {
        "id": "2nNHn5RuE9sa"
      },
      "outputs": [],
      "source": [
        "import keras\n",
        "import numpy as np\n",
        "import matplotlib.pyplot as plt\n",
        "%matplotlib inline\n",
        "\n",
        "from re import X\n",
        "from keras.api.layers import Dense, Flatten\n",
        "from keras.api.models import Sequential\n",
        "from keras.api.datasets import mnist\n",
        "from sklearn.naive_bayes import GaussianNB\n",
        "from sklearn.model_selection import train_test_split"
      ]
    },
    {
      "cell_type": "markdown",
      "source": [
        "### Визуализация изображения"
      ],
      "metadata": {
        "id": "powd-0UHTM8U"
      }
    },
    {
      "cell_type": "code",
      "source": [
        "# Загружаем данные из набора MNIST\n",
        "# X_train и y_train - обучающая выборка (изображения и метки)\n",
        "# X_test и y_test - тестовая выборка (изображения и метки)\n",
        "(X_train, y_train), (X_test, y_test) = mnist.load_data()\n",
        "\n",
        "# Отображаем 12-е изображение из тестовой выборки\n",
        "# Используем черно-белую цветовую схему для отображения\n",
        "plt.imshow(X_test[12], cmap='binary')\n",
        "# Отключаем отображение осей графика\n",
        "plt.axis('off')\n",
        "# Выводим метку (правильный ответ) для 12-го изображения из тестовой выборки\n",
        "print(y_test[12])\n",
        "\n"
      ],
      "metadata": {
        "colab": {
          "base_uri": "https://localhost:8080/",
          "height": 423
        },
        "id": "MzgP-8MLG3J9",
        "outputId": "6a4a27d0-dfb6-40e6-c35e-ad962079c199"
      },
      "execution_count": null,
      "outputs": [
        {
          "output_type": "stream",
          "name": "stdout",
          "text": [
            "9\n"
          ]
        },
        {
          "output_type": "display_data",
          "data": {
            "text/plain": [
              "<Figure size 640x480 with 1 Axes>"
            ],
            "image/png": "[encoded data removed]"
          },
          "metadata": {}
        }
      ]
    },
    {
      "cell_type": "code",
      "source": [
        "y = y_train #A\n",
        "n_samples = len(X_train) #B\n",
        "# Изменяем форму массива X_train, чтобы каждый образец стал одномерным вектором\n",
        "X= X_train.reshape((n_samples, -1)) #B"
      ],
      "metadata": {
        "id": "MwUsRU_iJx0Z"
      },
      "execution_count": null,
      "outputs": []
    },
    {
      "cell_type": "code",
      "source": [
        "# Разделяем данные на обучающую и тестовую выборки\n",
        "# X - это массив признаков (изображения), y - это массив меток (цифры)\n",
        "# random_state=0 устанавливает начальное значение генератора случайных чисел для воспроизводимости\n",
        "X_train_2, X_test_2, y_train_2, y_test_2 = train_test_split(X, y, random_state=0) #C"
      ],
      "metadata": {
        "id": "4eDWft_jMWNe"
      },
      "execution_count": null,
      "outputs": []
    },
    {
      "cell_type": "markdown",
      "source": [
        "### Создаем и обучаем модель"
      ],
      "metadata": {
        "id": "f_MTNQiIVEER"
      }
    },
    {
      "cell_type": "code",
      "source": [
        "gnb = GaussianNB()#D\n",
        "# Обучаем модель на обучающей выборке\n",
        "fit = gnb.fit(X_train_2,y_train_2)#E\n",
        "# Используем обученную модель для предсказания меток на тестовой выборке\n",
        "# predicted будет содержать предсказанные метки для X_test_2\n",
        "predicted = fit.predict(X_test_2)#F"
      ],
      "metadata": {
        "id": "g0DenYyMMrum"
      },
      "execution_count": null,
      "outputs": []
    },
    {
      "cell_type": "markdown",
      "source": [
        "### Визуализация предсказаний"
      ],
      "metadata": {
        "id": "tu_1RRfEU-Qu"
      }
    },
    {
      "cell_type": "code",
      "source": [
        "# Объединяем изображения и их предсказания в список кортежей\n",
        "# fit.predict(X) возвращает предсказания для всех образцов в X\n",
        "images_and_predictions = list(zip(X_train, fit.predict(X)))#A\n",
        "for index, (image, prediction) in enumerate(images_and_predictions[:9:1]):#B\n",
        "    # Создаем подграфик для каждого изображения\n",
        "    plt.subplot(6, 3 ,index +1)#C\n",
        "    plt.axis('off')#D\n",
        "    plt.imshow(image, cmap='binary', interpolation='nearest')#E\n",
        "    plt.title('Prediction: %i' % prediction)#f\n",
        "plt.show()#G"
      ],
      "metadata": {
        "colab": {
          "base_uri": "https://localhost:8080/",
          "height": 238
        },
        "id": "WOgd_rlmM0Lj",
        "outputId": "7a4c28a3-89a1-46af-df8a-d1571dfd5b86"
      },
      "execution_count": null,
      "outputs": [
        {
          "output_type": "display_data",
          "data": {
            "text/plain": [
              "<Figure size 640x480 with 9 Axes>"
            ],
            "image/png": "[encoded data removed]"
          },
          "metadata": {}
        }
      ]
    },
    {
      "cell_type": "markdown",
      "source": [
        "# Качество вина"
      ],
      "metadata": {
        "id": "Wr2T2hzyVOdg"
      }
    },
    {
      "cell_type": "markdown",
      "source": [
        "### Импорты"
      ],
      "metadata": {
        "id": "9YLvUDF0VXgD"
      }
    },
    {
      "cell_type": "code",
      "execution_count": 3,
      "metadata": {
        "id": "EbQvAnOqa7rC"
      },
      "outputs": [],
      "source": [
        "import pandas as pd\n",
        "from sklearn import preprocessing\n",
        "from sklearn.decomposition import PCA\n",
        "import pylab as plt\n",
        "from sklearn import preprocessing"
      ]
    },
    {
      "cell_type": "markdown",
      "source": [
        "### Данные взяты из онлайн-архива набора данных машинного обучения"
      ],
      "metadata": {
        "id": "mj8XfoRZVkOW"
      }
    },
    {
      "cell_type": "code",
      "source": [
        "url = 'https://raw.githubusercontent.com/aniruddhachoudhury/Red-Wine-Quality/refs/heads/master/winequality-red.csv' #A\n",
        "data = pd.read_csv(url, sep=',')#B"
      ],
      "metadata": {
        "id": "92oAw2WRVoin"
      },
      "execution_count": 6,
      "outputs": []
    },
    {
      "cell_type": "markdown",
      "source": [
        "## Чистка данных"
      ],
      "metadata": {
        "id": "9fy9ONCYV4rR"
      }
    },
    {
      "cell_type": "code",
      "source": [
        "X = data[[u'fixed acidity', u'volatile acidity', u'citric acid',\n",
        "      u'residual sugar', u'chlorides', u'free sulfur dioxide',\n",
        "      u'total sulfur dioxide', u'density', u'pH', u'sulphates']] #C\n",
        "y = data.quality #D"
      ],
      "metadata": {
        "id": "EJ0pg-SWZe6u"
      },
      "execution_count": 10,
      "outputs": []
    },
    {
      "cell_type": "markdown",
      "source": [
        "### Разделяем набор данных на независимые (X) и зависимые (y) переменные."
      ],
      "metadata": {
        "id": "MnUZpHIMV9t_"
      }
    },
    {
      "cell_type": "code",
      "execution_count": 10,
      "metadata": {
        "jupyter": {
          "outputs_hidden": false
        },
        "id": "Z8QqRpVfa7rC"
      },
      "outputs": [],
      "source": []
    },
    {
      "cell_type": "markdown",
      "source": [
        "### Стандартизация переменных"
      ],
      "metadata": {
        "id": "iLGjPYgFWlyQ"
      }
    },
    {
      "cell_type": "code",
      "source": [
        "X = preprocessing.StandardScaler().fit(X).transform(X) #E"
      ],
      "metadata": {
        "id": "KKXdVJpmWpby"
      },
      "execution_count": 11,
      "outputs": []
    },
    {
      "cell_type": "markdown",
      "source": [
        "## Исследование данных"
      ],
      "metadata": {
        "id": "uhC0aLQdWwJ9"
      }
    },
    {
      "cell_type": "code",
      "source": [
        "model = PCA() #A\n",
        "results = model.fit(X) #B\n",
        "Z = results.transform(X) #C\n",
        "plt.plot(results.explained_variance_) #D\n",
        "plt.show() #E"
      ],
      "metadata": {
        "colab": {
          "base_uri": "https://localhost:8080/",
          "height": 430
        },
        "id": "xwMBjDclWzhr",
        "outputId": "0bd6838c-30c8-429d-fc1a-a1ecf87155ed"
      },
      "execution_count": 12,
      "outputs": [
        {
          "output_type": "display_data",
          "data": {
            "text/plain": [
              "<Figure size 640x480 with 1 Axes>"
            ],
            "image/png": "[encoded data removed]"
          },
          "metadata": {}
        }
      ]
    },
    {
      "cell_type": "code",
      "execution_count": 13,
      "metadata": {
        "jupyter": {
          "outputs_hidden": false
        },
        "id": "ubH6b59ka7rE",
        "outputId": "be700a87-dad0-4376-b7f6-667987aa25b5",
        "colab": {
          "base_uri": "https://localhost:8080/"
        }
      },
      "outputs": [
        {
          "output_type": "stream",
          "name": "stdout",
          "text": [
            "[[ 0.49403821 -0.25897378  0.47856211  0.14536183  0.20289297 -0.04565916\n",
            "   0.00798766  0.37575558 -0.43650973  0.25230926]\n",
            " [-0.1156371   0.10586668 -0.03305056  0.34173742  0.10610982  0.63710033\n",
            "   0.64988577  0.11374942  0.01651706  0.06945586]\n",
            " [ 0.22167662  0.53452724 -0.19003061  0.37455245 -0.10962276 -0.18500863\n",
            "  -0.09030003  0.48072571 -0.02931052 -0.44987019]\n",
            " [-0.14080607  0.42712997 -0.19202258 -0.09935418  0.73659447 -0.14323223\n",
            "  -0.09033617  0.07777213  0.00713343  0.4167047 ]\n",
            " [-0.21517894 -0.28768001  0.03225827  0.70408961 -0.0071707  -0.13466044\n",
            "  -0.28166127  0.0738066   0.43317753  0.28904559]\n",
            " [ 0.20428834  0.12167474 -0.13324881 -0.34711717 -0.43458076  0.11579958\n",
            "   0.00698275  0.44444759  0.3667678   0.52042765]\n",
            " [ 0.0014253  -0.25163496  0.24012965 -0.2819991   0.40411461  0.14950961\n",
            "  -0.03875381  0.35295393  0.53858186 -0.44461397]\n",
            " [ 0.14777737 -0.19632084 -0.4519985   0.02052417  0.09396791  0.59192348\n",
            "  -0.56875707  0.04449681 -0.22000952 -0.0427078 ]\n",
            " [ 0.20669987  0.4925933   0.55363844  0.06686002 -0.05160991  0.34081705\n",
            "  -0.32148853 -0.36728733  0.21212967  0.03959198]\n",
            " [ 0.7217941  -0.10719481 -0.33109728  0.10619407  0.17109225 -0.12980363\n",
            "   0.23140179 -0.37984945  0.32037705 -0.00495704]]\n"
          ]
        }
      ],
      "source": [
        "print(results.components_)"
      ]
    },
    {
      "cell_type": "markdown",
      "source": [
        "## Подготовка данных"
      ],
      "metadata": {
        "id": "0QIRXh0oXB6j"
      }
    },
    {
      "cell_type": "markdown",
      "source": [
        "### Используя анализ PCA, мы сожмем данные до нескольких основных компонентов."
      ],
      "metadata": {
        "id": "2z7Grph7XIVZ"
      }
    },
    {
      "cell_type": "code",
      "execution_count": 14,
      "metadata": {
        "jupyter": {
          "outputs_hidden": false
        },
        "id": "jW9KBHWta7rE",
        "colab": {
          "base_uri": "https://localhost:8080/",
          "height": 380
        },
        "outputId": "34dd1d95-13ca-4b81-da0c-3e24d61fb260"
      },
      "outputs": [
        {
          "output_type": "execute_result",
          "data": {
            "text/plain": [
              "   fixed acidity  volatile acidity  citric acid  residual sugar  chlorides  \\\n",
              "0       0.494038         -0.258974     0.478562        0.145362   0.202893   \n",
              "1      -0.115637          0.105867    -0.033051        0.341737   0.106110   \n",
              "2       0.221677          0.534527    -0.190031        0.374552  -0.109623   \n",
              "3      -0.140806          0.427130    -0.192023       -0.099354   0.736594   \n",
              "4      -0.215179         -0.287680     0.032258        0.704090  -0.007171   \n",
              "5       0.204288          0.121675    -0.133249       -0.347117  -0.434581   \n",
              "6       0.001425         -0.251635     0.240130       -0.281999   0.404115   \n",
              "7       0.147777         -0.196321    -0.451998        0.020524   0.093968   \n",
              "8       0.206700          0.492593     0.553638        0.066860  -0.051610   \n",
              "9       0.721794         -0.107195    -0.331097        0.106194   0.171092   \n",
              "\n",
              "   free sulfur dioxide  total sulfur dioxide   density        pH  sulphates  \n",
              "0            -0.045659              0.007988  0.375756 -0.436510   0.252309  \n",
              "1             0.637100              0.649886  0.113749  0.016517   0.069456  \n",
              "2            -0.185009             -0.090300  0.480726 -0.029311  -0.449870  \n",
              "3            -0.143232             -0.090336  0.077772  0.007133   0.416705  \n",
              "4            -0.134660             -0.281661  0.073807  0.433178   0.289046  \n",
              "5             0.115800              0.006983  0.444448  0.366768   0.520428  \n",
              "6             0.149510             -0.038754  0.352954  0.538582  -0.444614  \n",
              "7             0.591923             -0.568757  0.044497 -0.220010  -0.042708  \n",
              "8             0.340817             -0.321489 -0.367287  0.212130   0.039592  \n",
              "9            -0.129804              0.231402 -0.379849  0.320377  -0.004957  "
            ],
            "text/html": [
              "\n",
              "  <div id=\"df-19e15762-36a7-475c-900f-8d3d9fa31d69\" class=\"colab-df-container\">\n",
              "    <div>\n",
              "<style scoped>\n",
              "    .dataframe tbody tr th:only-of-type {\n",
              "        vertical-align: middle;\n",
              "    }\n",
              "\n",
              "    .dataframe tbody tr th {\n",
              "        vertical-align: top;\n",
              "    }\n",
              "\n",
              "    .dataframe thead th {\n",
              "        text-align: right;\n",
              "    }\n",
              "</style>\n",
              "<table border=\"1\" class=\"dataframe\">\n",
              "  <thead>\n",
              "    <tr style=\"text-align: right;\">\n",
              "      <th></th>\n",
              "      <th>fixed acidity</th>\n",
              "      <th>volatile acidity</th>\n",
              "      <th>citric acid</th>\n",
              "      <th>residual sugar</th>\n",
              "      <th>chlorides</th>\n",
              "      <th>free sulfur dioxide</th>\n",
              "      <th>total sulfur dioxide</th>\n",
              "      <th>density</th>\n",
              "      <th>pH</th>\n",
              "      <th>sulphates</th>\n",
              "    </tr>\n",
              "  </thead>\n",
              "  <tbody>\n",
              "    <tr>\n",
              "      <th>0</th>\n",
              "      <td>0.494038</td>\n",
              "      <td>-0.258974</td>\n",
              "      <td>0.478562</td>\n",
              "      <td>0.145362</td>\n",
              "      <td>0.202893</td>\n",
              "      <td>-0.045659</td>\n",
              "      <td>0.007988</td>\n",
              "      <td>0.375756</td>\n",
              "      <td>-0.436510</td>\n",
              "      <td>0.252309</td>\n",
              "    </tr>\n",
              "    <tr>\n",
              "      <th>1</th>\n",
              "      <td>-0.115637</td>\n",
              "      <td>0.105867</td>\n",
              "      <td>-0.033051</td>\n",
              "      <td>0.341737</td>\n",
              "      <td>0.106110</td>\n",
              "      <td>0.637100</td>\n",
              "      <td>0.649886</td>\n",
              "      <td>0.113749</td>\n",
              "      <td>0.016517</td>\n",
              "      <td>0.069456</td>\n",
              "    </tr>\n",
              "    <tr>\n",
              "      <th>2</th>\n",
              "      <td>0.221677</td>\n",
              "      <td>0.534527</td>\n",
              "      <td>-0.190031</td>\n",
              "      <td>0.374552</td>\n",
              "      <td>-0.109623</td>\n",
              "      <td>-0.185009</td>\n",
              "      <td>-0.090300</td>\n",
              "      <td>0.480726</td>\n",
              "      <td>-0.029311</td>\n",
              "      <td>-0.449870</td>\n",
              "    </tr>\n",
              "    <tr>\n",
              "      <th>3</th>\n",
              "      <td>-0.140806</td>\n",
              "      <td>0.427130</td>\n",
              "      <td>-0.192023</td>\n",
              "      <td>-0.099354</td>\n",
              "      <td>0.736594</td>\n",
              "      <td>-0.143232</td>\n",
              "      <td>-0.090336</td>\n",
              "      <td>0.077772</td>\n",
              "      <td>0.007133</td>\n",
              "      <td>0.416705</td>\n",
              "    </tr>\n",
              "    <tr>\n",
              "      <th>4</th>\n",
              "      <td>-0.215179</td>\n",
              "      <td>-0.287680</td>\n",
              "      <td>0.032258</td>\n",
              "      <td>0.704090</td>\n",
              "      <td>-0.007171</td>\n",
              "      <td>-0.134660</td>\n",
              "      <td>-0.281661</td>\n",
              "      <td>0.073807</td>\n",
              "      <td>0.433178</td>\n",
              "      <td>0.289046</td>\n",
              "    </tr>\n",
              "    <tr>\n",
              "      <th>5</th>\n",
              "      <td>0.204288</td>\n",
              "      <td>0.121675</td>\n",
              "      <td>-0.133249</td>\n",
              "      <td>-0.347117</td>\n",
              "      <td>-0.434581</td>\n",
              "      <td>0.115800</td>\n",
              "      <td>0.006983</td>\n",
              "      <td>0.444448</td>\n",
              "      <td>0.366768</td>\n",
              "      <td>0.520428</td>\n",
              "    </tr>\n",
              "    <tr>\n",
              "      <th>6</th>\n",
              "      <td>0.001425</td>\n",
              "      <td>-0.251635</td>\n",
              "      <td>0.240130</td>\n",
              "      <td>-0.281999</td>\n",
              "      <td>0.404115</td>\n",
              "      <td>0.149510</td>\n",
              "      <td>-0.038754</td>\n",
              "      <td>0.352954</td>\n",
              "      <td>0.538582</td>\n",
              "      <td>-0.444614</td>\n",
              "    </tr>\n",
              "    <tr>\n",
              "      <th>7</th>\n",
              "      <td>0.147777</td>\n",
              "      <td>-0.196321</td>\n",
              "      <td>-0.451998</td>\n",
              "      <td>0.020524</td>\n",
              "      <td>0.093968</td>\n",
              "      <td>0.591923</td>\n",
              "      <td>-0.568757</td>\n",
              "      <td>0.044497</td>\n",
              "      <td>-0.220010</td>\n",
              "      <td>-0.042708</td>\n",
              "    </tr>\n",
              "    <tr>\n",
              "      <th>8</th>\n",
              "      <td>0.206700</td>\n",
              "      <td>0.492593</td>\n",
              "      <td>0.553638</td>\n",
              "      <td>0.066860</td>\n",
              "      <td>-0.051610</td>\n",
              "      <td>0.340817</td>\n",
              "      <td>-0.321489</td>\n",
              "      <td>-0.367287</td>\n",
              "      <td>0.212130</td>\n",
              "      <td>0.039592</td>\n",
              "    </tr>\n",
              "    <tr>\n",
              "      <th>9</th>\n",
              "      <td>0.721794</td>\n",
              "      <td>-0.107195</td>\n",
              "      <td>-0.331097</td>\n",
              "      <td>0.106194</td>\n",
              "      <td>0.171092</td>\n",
              "      <td>-0.129804</td>\n",
              "      <td>0.231402</td>\n",
              "      <td>-0.379849</td>\n",
              "      <td>0.320377</td>\n",
              "      <td>-0.004957</td>\n",
              "    </tr>\n",
              "  </tbody>\n",
              "</table>\n",
              "</div>\n",
              "    <div class=\"colab-df-buttons\">\n",
              "\n",
              "  <div class=\"colab-df-container\">\n",
              "    <button class=\"colab-df-convert\" onclick=\"convertToInteractive('df-19e15762-36a7-475c-900f-8d3d9fa31d69')\"\n",
              "            title=\"Convert this dataframe to an interactive table.\"\n",
              "            style=\"display:none;\">\n",
              "\n",
              "  <svg xmlns=\"http://www.w3.org/2000/svg\" height=\"24px\" viewBox=\"0 -960 960 960\">\n",
              "    <path d=\"M120-120v-720h720v720H120Zm60-500h600v-160H180v160Zm220 220h160v-160H400v160Zm0 220h160v-160H400v160ZM180-400h160v-160H180v160Zm440 0h160v-160H620v160ZM180-180h160v-160H180v160Zm440 0h160v-160H620v160Z\"/>\n",
              "  </svg>\n",
              "    </button>\n",
              "\n",
              "  <style>\n",
              "    .colab-df-container {\n",
              "      display:flex;\n",
              "      gap: 12px;\n",
              "    }\n",
              "\n",
              "    .colab-df-convert {\n",
              "      background-color: #E8F0FE;\n",
              "      border: none;\n",
              "      border-radius: 50%;\n",
              "      cursor: pointer;\n",
              "      display: none;\n",
              "      fill: #1967D2;\n",
              "      height: 32px;\n",
              "      padding: 0 0 0 0;\n",
              "      width: 32px;\n",
              "    }\n",
              "\n",
              "    .colab-df-convert:hover {\n",
              "      background-color: #E2EBFA;\n",
              "      box-shadow: 0px 1px 2px rgba(60, 64, 67, 0.3), 0px 1px 3px 1px rgba(60, 64, 67, 0.15);\n",
              "      fill: #174EA6;\n",
              "    }\n",
              "\n",
              "    .colab-df-buttons div {\n",
              "      margin-bottom: 4px;\n",
              "    }\n",
              "\n",
              "    [theme=dark] .colab-df-convert {\n",
              "      background-color: #3B4455;\n",
              "      fill: #D2E3FC;\n",
              "    }\n",
              "\n",
              "    [theme=dark] .colab-df-convert:hover {\n",
              "      background-color: #434B5C;\n",
              "      box-shadow: 0px 1px 3px 1px rgba(0, 0, 0, 0.15);\n",
              "      filter: drop-shadow(0px 1px 2px rgba(0, 0, 0, 0.3));\n",
              "      fill: #FFFFFF;\n",
              "    }\n",
              "  </style>\n",
              "\n",
              "    <script>\n",
              "      const buttonEl =\n",
              "        document.querySelector('#df-19e15762-36a7-475c-900f-8d3d9fa31d69 button.colab-df-convert');\n",
              "      buttonEl.style.display =\n",
              "        google.colab.kernel.accessAllowed ? 'block' : 'none';\n",
              "\n",
              "      async function convertToInteractive(key) {\n",
              "        const element = document.querySelector('#df-19e15762-36a7-475c-900f-8d3d9fa31d69');\n",
              "        const dataTable =\n",
              "          await google.colab.kernel.invokeFunction('convertToInteractive',\n",
              "                                                    [key], {});\n",
              "        if (!dataTable) return;\n",
              "\n",
              "        const docLinkHtml = 'Like what you see? Visit the ' +\n",
              "          '<a target=\"_blank\" href=https://colab.research.google.com/notebooks/data_table.ipynb>data table notebook</a>'\n",
              "          + ' to learn more about interactive tables.';\n",
              "        element.innerHTML = '';\n",
              "        dataTable['output_type'] = 'display_data';\n",
              "        await google.colab.output.renderOutput(dataTable, element);\n",
              "        const docLink = document.createElement('div');\n",
              "        docLink.innerHTML = docLinkHtml;\n",
              "        element.appendChild(docLink);\n",
              "      }\n",
              "    </script>\n",
              "  </div>\n",
              "\n",
              "\n",
              "<div id=\"df-e4a25670-3c62-485c-9c38-90c98f919937\">\n",
              "  <button class=\"colab-df-quickchart\" onclick=\"quickchart('df-e4a25670-3c62-485c-9c38-90c98f919937')\"\n",
              "            title=\"Suggest charts\"\n",
              "            style=\"display:none;\">\n",
              "\n",
              "<svg xmlns=\"http://www.w3.org/2000/svg\" height=\"24px\"viewBox=\"0 0 24 24\"\n",
              "     width=\"24px\">\n",
              "    <g>\n",
              "        <path d=\"M19 3H5c-1.1 0-2 .9-2 2v14c0 1.1.9 2 2 2h14c1.1 0 2-.9 2-2V5c0-1.1-.9-2-2-2zM9 17H7v-7h2v7zm4 0h-2V7h2v10zm4 0h-2v-4h2v4z\"/>\n",
              "    </g>\n",
              "</svg>\n",
              "  </button>\n",
              "\n",
              "<style>\n",
              "  .colab-df-quickchart {\n",
              "      --bg-color: #E8F0FE;\n",
              "      --fill-color: #1967D2;\n",
              "      --hover-bg-color: #E2EBFA;\n",
              "      --hover-fill-color: #174EA6;\n",
              "      --disabled-fill-color: #AAA;\n",
              "      --disabled-bg-color: #DDD;\n",
              "  }\n",
              "\n",
              "  [theme=dark] .colab-df-quickchart {\n",
              "      --bg-color: #3B4455;\n",
              "      --fill-color: #D2E3FC;\n",
              "      --hover-bg-color: #434B5C;\n",
              "      --hover-fill-color: #FFFFFF;\n",
              "      --disabled-bg-color: #3B4455;\n",
              "      --disabled-fill-color: #666;\n",
              "  }\n",
              "\n",
              "  .colab-df-quickchart {\n",
              "    background-color: var(--bg-color);\n",
              "    border: none;\n",
              "    border-radius: 50%;\n",
              "    cursor: pointer;\n",
              "    display: none;\n",
              "    fill: var(--fill-color);\n",
              "    height: 32px;\n",
              "    padding: 0;\n",
              "    width: 32px;\n",
              "  }\n",
              "\n",
              "  .colab-df-quickchart:hover {\n",
              "    background-color: var(--hover-bg-color);\n",
              "    box-shadow: 0 1px 2px rgba(60, 64, 67, 0.3), 0 1px 3px 1px rgba(60, 64, 67, 0.15);\n",
              "    fill: var(--button-hover-fill-color);\n",
              "  }\n",
              "\n",
              "  .colab-df-quickchart-complete:disabled,\n",
              "  .colab-df-quickchart-complete:disabled:hover {\n",
              "    background-color: var(--disabled-bg-color);\n",
              "    fill: var(--disabled-fill-color);\n",
              "    box-shadow: none;\n",
              "  }\n",
              "\n",
              "  .colab-df-spinner {\n",
              "    border: 2px solid var(--fill-color);\n",
              "    border-color: transparent;\n",
              "    border-bottom-color: var(--fill-color);\n",
              "    animation:\n",
              "      spin 1s steps(1) infinite;\n",
              "  }\n",
              "\n",
              "  @keyframes spin {\n",
              "    0% {\n",
              "      border-color: transparent;\n",
              "      border-bottom-color: var(--fill-color);\n",
              "      border-left-color: var(--fill-color);\n",
              "    }\n",
              "    20% {\n",
              "      border-color: transparent;\n",
              "      border-left-color: var(--fill-color);\n",
              "      border-top-color: var(--fill-color);\n",
              "    }\n",
              "    30% {\n",
              "      border-color: transparent;\n",
              "      border-left-color: var(--fill-color);\n",
              "      border-top-color: var(--fill-color);\n",
              "      border-right-color: var(--fill-color);\n",
              "    }\n",
              "    40% {\n",
              "      border-color: transparent;\n",
              "      border-right-color: var(--fill-color);\n",
              "      border-top-color: var(--fill-color);\n",
              "    }\n",
              "    60% {\n",
              "      border-color: transparent;\n",
              "      border-right-color: var(--fill-color);\n",
              "    }\n",
              "    80% {\n",
              "      border-color: transparent;\n",
              "      border-right-color: var(--fill-color);\n",
              "      border-bottom-color: var(--fill-color);\n",
              "    }\n",
              "    90% {\n",
              "      border-color: transparent;\n",
              "      border-bottom-color: var(--fill-color);\n",
              "    }\n",
              "  }\n",
              "</style>\n",
              "\n",
              "  <script>\n",
              "    async function quickchart(key) {\n",
              "      const quickchartButtonEl =\n",
              "        document.querySelector('#' + key + ' button');\n",
              "      quickchartButtonEl.disabled = true;  // To prevent multiple clicks.\n",
              "      quickchartButtonEl.classList.add('colab-df-spinner');\n",
              "      try {\n",
              "        const charts = await google.colab.kernel.invokeFunction(\n",
              "            'suggestCharts', [key], {});\n",
              "      } catch (error) {\n",
              "        console.error('Error during call to suggestCharts:', error);\n",
              "      }\n",
              "      quickchartButtonEl.classList.remove('colab-df-spinner');\n",
              "      quickchartButtonEl.classList.add('colab-df-quickchart-complete');\n",
              "    }\n",
              "    (() => {\n",
              "      let quickchartButtonEl =\n",
              "        document.querySelector('#df-e4a25670-3c62-485c-9c38-90c98f919937 button');\n",
              "      quickchartButtonEl.style.display =\n",
              "        google.colab.kernel.accessAllowed ? 'block' : 'none';\n",
              "    })();\n",
              "  </script>\n",
              "</div>\n",
              "    </div>\n",
              "  </div>\n"
            ],
            "application/vnd.google.colaboratory.intrinsic+json": {
              "type": "dataframe",
              "summary": "{\n  \"name\": \"pd\",\n  \"rows\": 10,\n  \"fields\": [\n    {\n      \"column\": \"fixed acidity\",\n      \"properties\": {\n        \"dtype\": \"number\",\n        \"std\": 0.291949137923826,\n        \"min\": -0.21517894210687416,\n        \"max\": 0.7217940977388759,\n        \"num_unique_values\": 10,\n        \"samples\": [\n          0.20669986918961217,\n          -0.11563710333920608,\n          0.20428833636879168\n        ],\n        \"semantic_type\": \"\",\n        \"description\": \"\"\n      }\n    },\n    {\n      \"column\": \"volatile acidity\",\n      \"properties\": {\n        \"dtype\": \"number\",\n        \"std\": 0.32767894971518247,\n        \"min\": -0.2876800093274919,\n        \"max\": 0.5345272392716813,\n        \"num_unique_values\": 10,\n        \"samples\": [\n          0.49259329555787507,\n          0.10586668464665529,\n          0.12167474444450266\n        ],\n        \"semantic_type\": \"\",\n        \"description\": \"\"\n      }\n    },\n    {\n      \"column\": \"citric acid\",\n      \"properties\": {\n        \"dtype\": \"number\",\n        \"std\": 0.3333213088890478,\n        \"min\": -0.4519984986539121,\n        \"max\": 0.5536384404792425,\n        \"num_unique_values\": 10,\n        \"samples\": [\n          0.5536384404792425,\n          -0.033050564273973654,\n          -0.13324881486930268\n        ],\n        \"semantic_type\": \"\",\n        \"description\": \"\"\n      }\n    },\n    {\n      \"column\": \"residual sugar\",\n      \"properties\": {\n        \"dtype\": \"number\",\n        \"std\": 0.31512519711952114,\n        \"min\": -0.34711716679059046,\n        \"max\": 0.704089608639888,\n        \"num_unique_values\": 10,\n        \"samples\": [\n          0.06686002407377353,\n          0.34173742497831594,\n          -0.34711716679059046\n        ],\n        \"semantic_type\": \"\",\n        \"description\": \"\"\n      }\n    },\n    {\n      \"column\": \"chlorides\",\n      \"properties\": {\n        \"dtype\": \"number\",\n        \"std\": 0.3120528385957614,\n        \"min\": -0.43458075907839633,\n        \"max\": 0.7365944739461812,\n        \"num_unique_values\": 10,\n        \"samples\": [\n          -0.05160990976333607,\n          0.10610981558533655,\n          -0.43458075907839633\n        ],\n        \"semantic_type\": \"\",\n        \"description\": \"\"\n      }\n    },\n    {\n      \"column\": \"free sulfur dioxide\",\n      \"properties\": {\n        \"dtype\": \"number\",\n        \"std\": 0.30853963197535356,\n        \"min\": -0.18500863382846422,\n        \"max\": 0.6371003276750644,\n        \"num_unique_values\": 10,\n        \"samples\": [\n          0.3408170453234896,\n          0.6371003276750644,\n          0.11579958085943665\n        ],\n        \"semantic_type\": \"\",\n        \"description\": \"\"\n      }\n    },\n    {\n      \"column\": \"total sulfur dioxide\",\n      \"properties\": {\n        \"dtype\": \"number\",\n        \"std\": 0.3292236066305745,\n        \"min\": -0.5687570722860172,\n        \"max\": 0.6498857733741145,\n        \"num_unique_values\": 10,\n        \"samples\": [\n          -0.3214885291642508,\n          0.6498857733741145,\n          0.006982754501686214\n        ],\n        \"semantic_type\": \"\",\n        \"description\": \"\"\n      }\n    },\n    {\n      \"column\": \"density\",\n      \"properties\": {\n        \"dtype\": \"number\",\n        \"std\": 0.3076786761409071,\n        \"min\": -0.3798494546917958,\n        \"max\": 0.48072570687178134,\n        \"num_unique_values\": 10,\n        \"samples\": [\n          -0.3672873345218514,\n          0.11374941532501424,\n          0.4444475879739792\n        ],\n        \"semantic_type\": \"\",\n        \"description\": \"\"\n      }\n    },\n    {\n      \"column\": \"pH\",\n      \"properties\": {\n        \"dtype\": \"number\",\n        \"std\": 0.3080164221206763,\n        \"min\": -0.4365097269867144,\n        \"max\": 0.5385818635045293,\n        \"num_unique_values\": 10,\n        \"samples\": [\n          0.21212967076028355,\n          0.016517058973898574,\n          0.36676779891502925\n        ],\n        \"semantic_type\": \"\",\n        \"description\": \"\"\n      }\n    },\n    {\n      \"column\": \"sulphates\",\n      \"properties\": {\n        \"dtype\": \"number\",\n        \"std\": 0.32631744693491166,\n        \"min\": -0.4498701896109122,\n        \"max\": 0.5204276542590386,\n        \"num_unique_values\": 10,\n        \"samples\": [\n          0.039591978770406835,\n          0.06945585892044298,\n          0.5204276542590386\n        ],\n        \"semantic_type\": \"\",\n        \"description\": \"\"\n      }\n    }\n  ]\n}"
            }
          },
          "metadata": {},
          "execution_count": 14
        }
      ],
      "source": [
        "pd.DataFrame(results.components_, columns=list([u'fixed acidity', u'volatile acidity', u'citric acid', u'residual sugar', u'chlorides', u'free sulfur dioxide',  u'total sulfur dioxide', u'density', u'pH', u'sulphates']))"
      ]
    },
    {
      "cell_type": "code",
      "source": [
        "X"
      ],
      "metadata": {
        "colab": {
          "base_uri": "https://localhost:8080/"
        },
        "id": "MajKPelSXQdd",
        "outputId": "71e78992-e9cc-430c-8962-60ee2747193a"
      },
      "execution_count": 15,
      "outputs": [
        {
          "output_type": "execute_result",
          "data": {
            "text/plain": [
              "array([[-0.52835961,  0.96187667, -1.39147228, ...,  0.55827446,\n",
              "         1.28864292, -0.57920652],\n",
              "       [-0.29854743,  1.96744245, -1.39147228, ...,  0.02826077,\n",
              "        -0.7199333 ,  0.1289504 ],\n",
              "       [-0.29854743,  1.29706527, -1.18607043, ...,  0.13426351,\n",
              "        -0.33117661, -0.04808883],\n",
              "       ...,\n",
              "       [-1.1603431 , -0.09955388, -0.72391627, ..., -0.53355375,\n",
              "         0.70550789,  0.54204194],\n",
              "       [-1.39015528,  0.65462046, -0.77526673, ..., -0.67665745,\n",
              "         1.6773996 ,  0.30598963],\n",
              "       [-1.33270223, -1.21684919,  1.02199944, ..., -0.66605717,\n",
              "         0.51112954,  0.01092425]])"
            ]
          },
          "metadata": {},
          "execution_count": 15
        }
      ]
    },
    {
      "cell_type": "markdown",
      "source": [
        "## Моделирование данных"
      ],
      "metadata": {
        "id": "T4j1-D-3XWsC"
      }
    },
    {
      "cell_type": "markdown",
      "source": [
        "### Прогнозирование оценки вина без анализа основных компонентов"
      ],
      "metadata": {
        "id": "SYdo6dPhXcec"
      }
    },
    {
      "cell_type": "code",
      "execution_count": 16,
      "metadata": {
        "jupyter": {
          "outputs_hidden": false
        },
        "id": "AXXPBO1-a7rE",
        "colab": {
          "base_uri": "https://localhost:8080/"
        },
        "outputId": "460b2b63-059d-4ab8-d791-85bfb272eec1"
      },
      "outputs": [
        {
          "output_type": "stream",
          "name": "stdout",
          "text": [
            "[[  3   2   4   0   0   0]\n",
            " [  2   7  26  19   1   0]\n",
            " [  2  23 360 145  11   0]\n",
            " [  3  21 253 368  98   8]\n",
            " [  0   0  38 106  89   8]\n",
            " [  0   0   0   0   0   2]]\n"
          ]
        }
      ],
      "source": [
        "from sklearn.model_selection import train_test_split\n",
        "from sklearn.naive_bayes import GaussianNB\n",
        "from sklearn.metrics import confusion_matrix\n",
        "import pylab as plt\n",
        "\n",
        "gnb = GaussianNB() #A\n",
        "fit = gnb.fit(X,y) #B\n",
        "pred = fit.predict(X) #C\n",
        "print (confusion_matrix(pred,y)) #D"
      ]
    },
    {
      "cell_type": "code",
      "execution_count": null,
      "metadata": {
        "jupyter": {
          "outputs_hidden": false
        },
        "id": "eS-PGsU5a7rE",
        "outputId": "14452bad-0e04-4572-d2b9-65f93a0ca85e",
        "colab": {
          "base_uri": "https://localhost:8080/"
        }
      },
      "outputs": [
        {
          "output_type": "stream",
          "name": "stdout",
          "text": [
            "829\n"
          ]
        }
      ],
      "source": [
        "print(confusion_matrix(pred,y).trace()) #E"
      ]
    },
    {
      "cell_type": "markdown",
      "source": [
        "### Прогнозирование оценки вина с увеличением количества основных компонентов"
      ],
      "metadata": {
        "id": "7eRMjSnQYgaM"
      }
    },
    {
      "cell_type": "code",
      "execution_count": null,
      "metadata": {
        "jupyter": {
          "outputs_hidden": false
        },
        "id": "FpnL-rFYa7rF",
        "outputId": "7ea2484e-82e7-449f-9345-e977590243d1",
        "colab": {
          "base_uri": "https://localhost:8080/",
          "height": 586
        }
      },
      "outputs": [
        {
          "output_type": "stream",
          "name": "stdout",
          "text": [
            "[722]\n",
            "[722, 750]\n",
            "[722, 750, 838]\n",
            "[722, 750, 838, 828]\n",
            "[722, 750, 838, 828, 872]\n",
            "[722, 750, 838, 828, 872, 863]\n",
            "[722, 750, 838, 828, 872, 863, 886]\n",
            "[722, 750, 838, 828, 872, 863, 886, 875]\n",
            "[722, 750, 838, 828, 872, 863, 886, 875, 900]\n"
          ]
        },
        {
          "output_type": "display_data",
          "data": {
            "text/plain": [
              "<Figure size 640x480 with 1 Axes>"
            ],
            "image/png": "[encoded data removed]"
          },
          "metadata": {}
        }
      ],
      "source": [
        "predicted_correct = []#A\n",
        "for i in range(1,10):#B\n",
        "    model = PCA(n_components = i)#C\n",
        "    results = model.fit(X)#D\n",
        "    Z = results.transform(X) #E\n",
        "    fit = gnb.fit(Z,y) #F\n",
        "    pred = fit.predict(Z)#G\n",
        "    predicted_correct.append(confusion_matrix(pred,y).trace())#H\n",
        "    print (predicted_correct) #I\n",
        "plt.plot(predicted_correct) #J\n",
        "plt.show()#K"
      ]
    },
    {
      "cell_type": "markdown",
      "source": [
        "# Классификация ирисов"
      ],
      "metadata": {
        "id": "W9-sR27laq0W"
      }
    },
    {
      "cell_type": "code",
      "execution_count": 17,
      "metadata": {
        "jupyter": {
          "outputs_hidden": false
        },
        "id": "6eWSHPNtPoBU",
        "outputId": "1be28c9b-4fe8-4d6c-e9ab-709a1f28f35a",
        "colab": {
          "base_uri": "https://localhost:8080/"
        }
      },
      "outputs": [
        {
          "output_type": "stream",
          "name": "stdout",
          "text": [
            "   sepal.length  sepal.width  petal.length  petal.width\n",
            "0           5.1          3.5           1.4          0.2\n",
            "1           4.9          3.0           1.4          0.2\n",
            "2           4.7          3.2           1.3          0.2\n",
            "3           4.6          3.1           1.5          0.2\n",
            "4           5.0          3.6           1.4          0.2\n",
            "   sepal.length  sepal.width  petal.length  petal.width  cluster  \\\n",
            "0           5.1          3.5           1.4          0.2        1   \n",
            "1           4.9          3.0           1.4          0.2        1   \n",
            "2           4.7          3.2           1.3          0.2        1   \n",
            "3           4.6          3.1           1.5          0.2        1   \n",
            "4           5.0          3.6           1.4          0.2        1   \n",
            "\n",
            "                      c  \n",
            "0  lookatmeIamimportant  \n",
            "1  lookatmeIamimportant  \n",
            "2  lookatmeIamimportant  \n",
            "3  lookatmeIamimportant  \n",
            "4  lookatmeIamimportant  \n",
            "          c\n",
            "cluster    \n",
            "0        38\n",
            "1        50\n",
            "2        62\n"
          ]
        }
      ],
      "source": [
        "import sklearn as sklearn\n",
        "from sklearn import cluster\n",
        "import pandas as pd\n",
        "\n",
        "url = \"https://gist.githubusercontent.com/netj/8836201/raw/6f9306ad21398ea43cba4f7d537619d0e07d5ae3/iris.csv\"\n",
        "X = pd.read_csv(url, sep=',')  #B\n",
        "X = X[[u'sepal.length', u'sepal.width', u'petal.length', u'petal.width']]\n",
        "print(X[:5]) #C\n",
        "model   = cluster.KMeans(n_clusters=3, random_state=25)  #D\n",
        "results = model.fit(X) #E\n",
        "X[\"cluster\"] = results.predict(X) #F\n",
        "X[\"c\"] = \"lookatmeIamimportant\" #H\n",
        "print (X[:5]) #I\n",
        "classification_result = X[[\"cluster\",\"c\"]].groupby([\"cluster\"]).agg(\"count\")  #J\n",
        "print(classification_result)#K"
      ]
    }
  ]
}