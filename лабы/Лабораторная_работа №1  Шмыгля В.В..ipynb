{
  "nbformat": 4,
  "nbformat_minor": 0,
  "metadata": {
    "colab": {
      "provenance": []
    },
    "kernelspec": {
      "name": "python3",
      "display_name": "Python 3"
    },
    "language_info": {
      "name": "python"
    }
  },
  "cells": [
    {
      "cell_type": "markdown",
      "source": [
        "### Постановка проблемы\n",
        "\n",
        "В данной лабораторной работе будер рассмотрена проблема медленного кода и как его ускорить с помощью \"профилирования\", для начала рассмотрим пример медленного кода"
      ],
      "metadata": {
        "id": "a1Bg3iAlPs83"
      }
    },
    {
      "cell_type": "code",
      "source": [
        "from decimal import *"
      ],
      "metadata": {
        "id": "5X5vKK9PQRXH"
      },
      "execution_count": null,
      "outputs": []
    },
    {
      "cell_type": "code",
      "execution_count": null,
      "metadata": {
        "colab": {
          "base_uri": "https://localhost:8080/"
        },
        "id": "lqhi7JNFOptc",
        "outputId": "a07278a7-f988-42c2-de54-f1c638652945"
      },
      "outputs": [
        {
          "output_type": "execute_result",
          "data": {
            "text/plain": [
              "Decimal('7.646200989054704889310727660E+1302')"
            ]
          },
          "metadata": {},
          "execution_count": 10
        }
      ],
      "source": [
        "# slow_program.py\n",
        "\n",
        "def exp(x):\n",
        "    getcontext().prec += 2\n",
        "    i, lasts, s, fact, num = 0, 0, 1, 1, 1\n",
        "    while s != lasts:\n",
        "        lasts = s\n",
        "        i += 1\n",
        "        fact *= i\n",
        "        num *= x\n",
        "        s += num / fact\n",
        "    getcontext().prec -= 2\n",
        "    return +s\n",
        "\n",
        "exp(Decimal(150))\n",
        "exp(Decimal(400))\n",
        "exp(Decimal(3000))\n"
      ]
    },
    {
      "cell_type": "markdown",
      "source": [
        "### Получение данных"
      ],
      "metadata": {
        "id": "qJet482YaZC7"
      }
    },
    {
      "cell_type": "code",
      "source": [
        "!apt-get install git"
      ],
      "metadata": {
        "colab": {
          "base_uri": "https://localhost:8080/"
        },
        "id": "0OcISm2xadfj",
        "outputId": "1fd88000-b1dd-4392-8049-f50f8160fc03"
      },
      "execution_count": 1,
      "outputs": [
        {
          "output_type": "stream",
          "name": "stdout",
          "text": [
            "Reading package lists... Done\n",
            "Building dependency tree... Done\n",
            "Reading state information... Done\n",
            "git is already the newest version (1:2.34.1-1ubuntu1.11).\n",
            "0 upgraded, 0 newly installed, 0 to remove and 49 not upgraded.\n"
          ]
        }
      ]
    },
    {
      "cell_type": "code",
      "source": [
        "!git clone https://github.com/Romiono/BD_lab1"
      ],
      "metadata": {
        "colab": {
          "base_uri": "https://localhost:8080/"
        },
        "id": "gTdE_AIyalbN",
        "outputId": "75957c37-1a70-4f83-f8a1-669dc40a7487"
      },
      "execution_count": 2,
      "outputs": [
        {
          "output_type": "stream",
          "name": "stdout",
          "text": [
            "Cloning into 'BD_lab1'...\n",
            "remote: Enumerating objects: 9, done.\u001b[K\n",
            "remote: Counting objects: 100% (9/9), done.\u001b[K\n",
            "remote: Compressing objects: 100% (9/9), done.\u001b[K\n",
            "remote: Total 9 (delta 3), reused 0 (delta 0), pack-reused 0 (from 0)\u001b[K\n",
            "Receiving objects: 100% (9/9), done.\n",
            "Resolving deltas: 100% (3/3), done.\n"
          ]
        }
      ]
    },
    {
      "cell_type": "markdown",
      "source": [
        "### Самый легкий способ профилирования\n",
        "Самым простым способом профилирования является испольнование команды Unix time\n",
        "\n"
      ],
      "metadata": {
        "id": "cvYC0n8BQa06"
      }
    },
    {
      "cell_type": "code",
      "source": [
        "!time python BD_lab1/slow_program.py"
      ],
      "metadata": {
        "colab": {
          "base_uri": "https://localhost:8080/"
        },
        "id": "4_kF-1WOQzyd",
        "outputId": "00ba3515-4a23-4050-ba5d-43879abe988e"
      },
      "execution_count": 3,
      "outputs": [
        {
          "output_type": "stream",
          "name": "stdout",
          "text": [
            "\n",
            "real\t0m16.053s\n",
            "user\t0m15.433s\n",
            "sys\t0m0.114s\n"
          ]
        }
      ]
    },
    {
      "cell_type": "markdown",
      "source": [
        "### Точные инструменты профилирования\n",
        "\n",
        "Существуют более сложные инструменты профилирования, например cProfile, который дает очень много сведений, slow_program.py запустим его с помощью cProfile"
      ],
      "metadata": {
        "id": "yifG3dIcS5JU"
      }
    },
    {
      "cell_type": "code",
      "source": [
        "!python -m cProfile -s cumulative BD_lab1/slow_program.py"
      ],
      "metadata": {
        "colab": {
          "base_uri": "https://localhost:8080/"
        },
        "id": "-Fe2JudWTVpZ",
        "outputId": "295b8783-0a46-4959-e3c6-d988c0fc8710"
      },
      "execution_count": 4,
      "outputs": [
        {
          "output_type": "stream",
          "name": "stdout",
          "text": [
            "         913 function calls (892 primitive calls) in 15.014 seconds\n",
            "\n",
            "   Ordered by: cumulative time\n",
            "\n",
            "   ncalls  tottime  percall  cumtime  percall filename:lineno(function)\n",
            "      3/1    0.000    0.000   15.014   15.014 {built-in method builtins.exec}\n",
            "        1    0.000    0.000   15.014   15.014 slow_program.py:1(<module>)\n",
            "        3   15.010    5.003   15.010    5.003 slow_program.py:3(exp)\n",
            "      3/1    0.000    0.000    0.003    0.003 <frozen importlib._bootstrap>:1022(_find_and_load)\n",
            "      3/1    0.000    0.000    0.003    0.003 <frozen importlib._bootstrap>:987(_find_and_load_unlocked)\n",
            "      3/1    0.000    0.000    0.003    0.003 <frozen importlib._bootstrap>:664(_load_unlocked)\n",
            "      2/1    0.000    0.000    0.003    0.003 <frozen importlib._bootstrap_external>:877(exec_module)\n",
            "      4/1    0.000    0.000    0.003    0.003 <frozen importlib._bootstrap>:233(_call_with_frames_removed)\n",
            "        1    0.000    0.000    0.003    0.003 decimal.py:1(<module>)\n",
            "      3/2    0.000    0.000    0.002    0.001 <frozen importlib._bootstrap>:564(module_from_spec)\n",
            "        1    0.000    0.000    0.002    0.002 <frozen importlib._bootstrap_external>:1174(create_module)\n",
            "        1    0.001    0.001    0.002    0.002 {built-in method _imp.create_dynamic}\n",
            "        3    0.000    0.000    0.001    0.000 <frozen importlib._bootstrap>:921(_find_spec)\n",
            "        3    0.000    0.000    0.001    0.000 <frozen importlib._bootstrap_external>:1431(find_spec)\n",
            "        3    0.000    0.000    0.001    0.000 <frozen importlib._bootstrap_external>:1399(_get_spec)\n",
            "       10    0.000    0.000    0.001    0.000 <frozen importlib._bootstrap_external>:1536(find_spec)\n",
            "        1    0.000    0.000    0.000    0.000 numbers.py:1(<module>)\n",
            "        2    0.000    0.000    0.000    0.000 <frozen importlib._bootstrap_external>:950(get_code)\n",
            "        5    0.000    0.000    0.000    0.000 {built-in method builtins.__build_class__}\n",
            "        6    0.000    0.000    0.000    0.000 abc.py:105(__new__)\n",
            "        1    0.000    0.000    0.000    0.000 __init__.py:328(namedtuple)\n",
            "        6    0.000    0.000    0.000    0.000 {built-in method __new__ of type object at 0x5a49c8e969a0}\n",
            "       49    0.000    0.000    0.000    0.000 <frozen importlib._bootstrap_external>:126(_path_join)\n",
            "        3    0.000    0.000    0.000    0.000 <frozen importlib._bootstrap>:492(_init_module_attrs)\n",
            "       17    0.000    0.000    0.000    0.000 <frozen importlib._bootstrap_external>:140(_path_stat)\n",
            "        2    0.000    0.000    0.000    0.000 <frozen importlib._bootstrap_external>:670(_compile_bytecode)\n",
            "       17    0.000    0.000    0.000    0.000 {built-in method posix.stat}\n",
            "        2    0.000    0.000    0.000    0.000 {built-in method marshal.loads}\n",
            "        1    0.000    0.000    0.000    0.000 {built-in method builtins.eval}\n",
            "        2    0.000    0.000    0.000    0.000 <frozen importlib._bootstrap_external>:1070(get_data)\n",
            "       16    0.000    0.000    0.000    0.000 <frozen importlib._bootstrap_external>:1356(_path_importer_cache)\n",
            "        1    0.000    0.000    0.000    0.000 <frozen importlib._bootstrap_external>:1343(_path_hooks)\n",
            "        6    0.000    0.000    0.000    0.000 {built-in method _abc._abc_init}\n",
            "       49    0.000    0.000    0.000    0.000 <frozen importlib._bootstrap_external>:128(<listcomp>)\n",
            "        3    0.000    0.000    0.000    0.000 <frozen importlib._bootstrap>:169(__enter__)\n",
            "        4    0.000    0.000    0.000    0.000 <frozen importlib._bootstrap_external>:380(cache_from_source)\n",
            "        5    0.000    0.000    0.000    0.000 <frozen importlib._bootstrap>:391(cached)\n",
            "        3    0.000    0.000    0.000    0.000 <frozen importlib._bootstrap_external>:1531(_get_spec)\n",
            "        3    0.000    0.000    0.000    0.000 <frozen importlib._bootstrap_external>:510(_get_cached)\n",
            "        2    0.000    0.000    0.000    0.000 {built-in method io.open_code}\n",
            "        1    0.000    0.000    0.000    0.000 <frozen importlib._bootstrap_external>:1628(path_hook_for_FileFinder)\n",
            "        4    0.000    0.000    0.000    0.000 abc.py:110(register)\n",
            "        3    0.000    0.000    0.000    0.000 <frozen importlib._bootstrap>:179(_get_module_lock)\n",
            "       53    0.000    0.000    0.000    0.000 <frozen importlib._bootstrap>:244(_verbose_message)\n",
            "        1    0.000    0.000    0.000    0.000 <frozen importlib._bootstrap_external>:1587(_fill_cache)\n",
            "        4    0.000    0.000    0.000    0.000 {built-in method _abc._abc_register}\n",
            "        4    0.000    0.000    0.000    0.000 <frozen importlib._bootstrap_external>:150(_path_is_mode_type)\n",
            "        3    0.000    0.000    0.000    0.000 <frozen importlib._bootstrap_external>:159(_path_isfile)\n",
            "        1    0.000    0.000    0.000    0.000 {built-in method posix.listdir}\n",
            "        1    0.000    0.000    0.000    0.000 <frozen importlib._bootstrap_external>:1494(__init__)\n",
            "      8/4    0.000    0.000    0.000    0.000 abc.py:121(__subclasscheck__)\n",
            "        3    0.000    0.000    0.000    0.000 __init__.py:102(find_spec)\n",
            "        3    0.000    0.000    0.000    0.000 <frozen importlib._bootstrap_external>:721(spec_from_file_location)\n",
            "       21    0.000    0.000    0.000    0.000 {built-in method builtins.getattr}\n",
            "      8/4    0.000    0.000    0.000    0.000 {built-in method _abc._abc_subclasscheck}\n",
            "        4    0.000    0.000    0.000    0.000 <frozen importlib._bootstrap_external>:132(_path_split)\n",
            "        1    0.000    0.000    0.000    0.000 numbers.py:32(Complex)\n",
            "        1    0.000    0.000    0.000    0.000 <frozen zipimport>:64(__init__)\n",
            "       55    0.000    0.000    0.000    0.000 {method 'join' of 'str' objects}\n",
            "        3    0.000    0.000    0.000    0.000 <frozen importlib._bootstrap>:100(acquire)\n",
            "        3    0.000    0.000    0.000    0.000 <frozen importlib._bootstrap>:173(__exit__)\n",
            "        2    0.000    0.000    0.000    0.000 {method 'read' of '_io.BufferedReader' objects}\n",
            "        1    0.000    0.000    0.000    0.000 numbers.py:294(Integral)\n",
            "      102    0.000    0.000    0.000    0.000 {method 'rstrip' of 'str' objects}\n",
            "        2    0.000    0.000    0.000    0.000 <frozen importlib._bootstrap_external>:585(_classify_pyc)\n",
            "        3    0.000    0.000    0.000    0.000 <frozen importlib._bootstrap>:198(cb)\n",
            "        2    0.000    0.000    0.000    0.000 <frozen importlib._bootstrap_external>:1089(path_stats)\n",
            "        3    0.000    0.000    0.000    0.000 <frozen importlib._bootstrap>:71(__init__)\n",
            "        3    0.000    0.000    0.000    0.000 <frozen importlib._bootstrap>:125(release)\n",
            "       42    0.000    0.000    0.000    0.000 abc.py:7(abstractmethod)\n",
            "        4    0.000    0.000    0.000    0.000 {built-in method builtins.max}\n",
            "        1    0.000    0.000    0.000    0.000 numbers.py:147(Real)\n",
            "        6    0.000    0.000    0.000    0.000 <frozen importlib._bootstrap_external>:84(_unpack_uint32)\n",
            "        2    0.000    0.000    0.000    0.000 {method '__exit__' of '_io._IOBase' objects}\n",
            "        3    0.000    0.000    0.000    0.000 <frozen importlib._bootstrap>:746(find_spec)\n",
            "       18    0.000    0.000    0.000    0.000 {built-in method _imp.release_lock}\n",
            "        2    0.000    0.000    0.000    0.000 <frozen importlib._bootstrap_external>:618(_validate_timestamp_pyc)\n",
            "        1    0.000    0.000    0.000    0.000 <frozen importlib._bootstrap_external>:1182(exec_module)\n",
            "       12    0.000    0.000    0.000    0.000 <frozen importlib._bootstrap>:897(__exit__)\n",
            "       12    0.000    0.000    0.000    0.000 <frozen importlib._bootstrap>:893(__enter__)\n",
            "        4    0.000    0.000    0.000    0.000 <frozen importlib._bootstrap_external>:180(_path_isabs)\n",
            "        8    0.000    0.000    0.000    0.000 <frozen importlib._bootstrap_external>:134(<genexpr>)\n",
            "        1    0.000    0.000    0.000    0.000 <frozen importlib._bootstrap_external>:164(_path_isdir)\n",
            "        9    0.000    0.000    0.000    0.000 {method 'startswith' of 'str' objects}\n",
            "       16    0.000    0.000    0.000    0.000 {built-in method builtins.hasattr}\n",
            "        3    0.000    0.000    0.000    0.000 {method 'extend' of 'list' objects}\n",
            "        3    0.000    0.000    0.000    0.000 {built-in method _imp.is_builtin}\n",
            "        6    0.000    0.000    0.000    0.000 {built-in method _thread.allocate_lock}\n",
            "       20    0.000    0.000    0.000    0.000 {method 'rpartition' of 'str' objects}\n",
            "        3    0.000    0.000    0.000    0.000 <frozen importlib._bootstrap>:357(__init__)\n",
            "        3    0.000    0.000    0.000    0.000 <frozen importlib._bootstrap>:826(find_spec)\n",
            "        3    0.000    0.000    0.000    0.000 {method 'format' of 'str' objects}\n",
            "       22    0.000    0.000    0.000    0.000 {built-in method builtins.isinstance}\n",
            "        2    0.000    0.000    0.000    0.000 <frozen importlib._bootstrap_external>:542(_check_name_wrapper)\n",
            "        6    0.000    0.000    0.000    0.000 {built-in method decimal.getcontext}\n",
            "        3    0.000    0.000    0.000    0.000 <frozen importlib._bootstrap>:404(parent)\n",
            "        3    0.000    0.000    0.000    0.000 {built-in method builtins.locals}\n",
            "       18    0.000    0.000    0.000    0.000 {built-in method _imp.acquire_lock}\n",
            "        1    0.000    0.000    0.000    0.000 numbers.py:267(Rational)\n",
            "        3    0.000    0.000    0.000    0.000 <frozen importlib._bootstrap>:165(__init__)\n",
            "       10    0.000    0.000    0.000    0.000 <frozen importlib._bootstrap_external>:71(_relax_case)\n",
            "        1    0.000    0.000    0.000    0.000 {built-in method posix.getcwd}\n",
            "        2    0.000    0.000    0.000    0.000 <frozen importlib._bootstrap>:48(_new_module)\n",
            "        8    0.000    0.000    0.000    0.000 <frozen importlib._bootstrap_external>:1500(<genexpr>)\n",
            "        7    0.000    0.000    0.000    0.000 {method 'get' of 'dict' objects}\n",
            "        6    0.000    0.000    0.000    0.000 {method '__exit__' of '_thread.lock' objects}\n",
            "        4    0.000    0.000    0.000    0.000 {method 'endswith' of 'str' objects}\n",
            "        4    0.000    0.000    0.000    0.000 {built-in method sys.intern}\n",
            "        4    0.000    0.000    0.000    0.000 __init__.py:402(<genexpr>)\n",
            "        9    0.000    0.000    0.000    0.000 {built-in method builtins.len}\n",
            "        6    0.000    0.000    0.000    0.000 {built-in method _thread.get_ident}\n",
            "        2    0.000    0.000    0.000    0.000 <frozen importlib._bootstrap_external>:1040(__init__)\n",
            "        6    0.000    0.000    0.000    0.000 {built-in method from_bytes}\n",
            "        1    0.000    0.000    0.000    0.000 <frozen importlib._bootstrap_external>:1163(__init__)\n",
            "        3    0.000    0.000    0.000    0.000 {built-in method _imp.is_frozen}\n",
            "        7    0.000    0.000    0.000    0.000 {built-in method posix.fspath}\n",
            "        4    0.000    0.000    0.000    0.000 {method 'isidentifier' of 'str' objects}\n",
            "        4    0.000    0.000    0.000    0.000 {method 'rfind' of 'str' objects}\n",
            "        4    0.000    0.000    0.000    0.000 {method '__contains__' of 'frozenset' objects}\n",
            "        3    0.000    0.000    0.000    0.000 {method 'pop' of 'dict' objects}\n",
            "        3    0.000    0.000    0.000    0.000 <frozen importlib._bootstrap>:412(has_location)\n",
            "        1    0.000    0.000    0.000    0.000 {method 'split' of 'str' objects}\n",
            "        1    0.000    0.000    0.000    0.000 {method 'disable' of '_lsprof.Profiler' objects}\n",
            "        2    0.000    0.000    0.000    0.000 {built-in method _imp._fix_co_filename}\n",
            "        3    0.000    0.000    0.000    0.000 __init__.py:109(<lambda>)\n",
            "        1    0.000    0.000    0.000    0.000 numbers.py:12(Number)\n",
            "        3    0.000    0.000    0.000    0.000 {method 'add' of 'set' objects}\n",
            "        1    0.000    0.000    0.000    0.000 {method 'replace' of 'str' objects}\n",
            "        2    0.000    0.000    0.000    0.000 <frozen importlib._bootstrap_external>:1065(get_filename)\n",
            "        1    0.000    0.000    0.000    0.000 {built-in method _imp.exec_dynamic}\n",
            "        1    0.000    0.000    0.000    0.000 <string>:1(<module>)\n",
            "        2    0.000    0.000    0.000    0.000 <frozen importlib._bootstrap_external>:874(create_module)\n",
            "        1    0.000    0.000    0.000    0.000 {built-in method sys._getframe}\n",
            "\n",
            "\n"
          ]
        }
      ]
    },
    {
      "cell_type": "markdown",
      "source": [
        "### Вывод относительно программы slow_program.py\n",
        "Проанализировав вывод Cprofile можно понять, что причиной медленной работы является функция exp()\n",
        "\n",
        "Напишем декаротар считающий время для функций"
      ],
      "metadata": {
        "id": "TwL9mBoFTodN"
      }
    },
    {
      "cell_type": "code",
      "source": [
        "from decimal import Decimal, getcontext\n",
        "from functools import wraps\n",
        "from time import perf_counter, process_time"
      ],
      "metadata": {
        "id": "ISbyxLWlWdbM"
      },
      "execution_count": null,
      "outputs": []
    },
    {
      "cell_type": "code",
      "source": [
        "def timeit_wrapper(func):\n",
        "    @wraps(func)\n",
        "    def wrapper(*args, **kwargs):\n",
        "        start = process_time()  # Используем process_time для измерения времени процессора\n",
        "        func_return_val = func(*args, **kwargs)\n",
        "        end = process_time()\n",
        "        print('{0:<10}.{1:<8} : {2:<8.6f}'.format(func.__module__, func.__name__, end - start))\n",
        "        return func_return_val\n",
        "    return wrapper"
      ],
      "metadata": {
        "id": "HfPSSXs6UCQj"
      },
      "execution_count": null,
      "outputs": []
    },
    {
      "cell_type": "markdown",
      "source": [
        "Перепишем нашу функцию slow_program.py с использованием этого декоратора"
      ],
      "metadata": {
        "id": "EgunmUQ8UrzC"
      }
    },
    {
      "cell_type": "code",
      "source": [
        "@timeit_wrapper\n",
        "def exp_tracking(x):\n",
        "    getcontext().prec += 2\n",
        "    i, lasts, s, fact, num = 0, 0, 1, 1, 1\n",
        "    while s != lasts:\n",
        "        lasts = s\n",
        "        i += 1\n",
        "        fact *= i\n",
        "        num *= x\n",
        "        s += num / fact\n",
        "    getcontext().prec -= 2\n",
        "    return +s\n",
        "\n",
        "# Печать заголовков для результата\n",
        "print('{0:<10} {1:<8} {2:^8}'.format('module', 'function', 'time'))\n",
        "\n",
        "# Тестовый вызов функции\n",
        "exp_tracking(Decimal(150))\n",
        "exp_tracking(Decimal(400))\n",
        "exp_tracking(Decimal(3000))"
      ],
      "metadata": {
        "colab": {
          "base_uri": "https://localhost:8080/"
        },
        "id": "gsPgNER6U1D5",
        "outputId": "710a9c57-c42c-484b-c610-99211354b919"
      },
      "execution_count": null,
      "outputs": [
        {
          "output_type": "stream",
          "name": "stdout",
          "text": [
            "module     function   time  \n",
            "__main__  .exp_tracking : 0.005099\n",
            "__main__  .exp_tracking : 0.049364\n",
            "__main__  .exp_tracking : 15.004622\n"
          ]
        },
        {
          "output_type": "execute_result",
          "data": {
            "text/plain": [
              "Decimal('7.646200989054704889310727660E+1302')"
            ]
          },
          "metadata": {},
          "execution_count": 16
        }
      ]
    },
    {
      "cell_type": "markdown",
      "source": [
        "### Ускорение кода\n",
        "Рассмотрим методы ускорения кода:\n",
        "1. ИСПОЛЬЗУЙТЕ ВСТРОЕННЫЕ ТИПЫ ДАННЫХ\n",
        "2. ПРИМЕНЯЙТЕ КЭШИРОВАНИЕ (МЕМОИЗАЦИЮ) С ПОМОЩЬЮ LRU_CACHE\n",
        "3. ИСПОЛЬЗУЙТЕ ЛОКАЛЬНЫЕ ПЕРЕМЕННЫЕ\n",
        "4. ОБОРАЧИВАЙТЕ КОД В ФУНКЦИИ\n",
        "5. НЕ ОБРАЩАЙТЕСЬ К АТРИБУТАМ\n",
        "6. ОСТЕРЕГАЙТЕСЬ СТРОК\n",
        "7. ИСПОЛЬЗУЮТЕ ГЕНЕРАТОРЫ\n"
      ],
      "metadata": {
        "id": "KZyP7qOkaZoB"
      }
    },
    {
      "cell_type": "markdown",
      "source": [
        "### Кеширование\n",
        "\n",
        "Рассмотрим работу с кешированием, в данно случае при втором вызове функции slow_func() результат будет выдан мгновенно, так как он уже кеширован с помощью @functools.lru_cache()"
      ],
      "metadata": {
        "id": "cpw8UnxqbFyT"
      }
    },
    {
      "cell_type": "code",
      "source": [
        "import functools\n",
        "import time\n"
      ],
      "metadata": {
        "id": "PKj8D2AdWrhA"
      },
      "execution_count": null,
      "outputs": []
    },
    {
      "cell_type": "code",
      "source": [
        "# кэширование до 12 различных результатов\n",
        "@functools.lru_cache(maxsize=12)\n",
        "def slow_func(x):\n",
        "    time.sleep(2)  # Имитируем длительные вычисления\n",
        "    return x\n",
        "\n",
        "slow_func(1)  # ... ждём 2 секунды до возврата результата\n",
        "slow_func(1)  # результат уже кэширован - он возвращается немедленно!\n",
        "\n",
        "slow_func(3)  # ... опять ждём 2 секунды до возврата результата\n"
      ],
      "metadata": {
        "colab": {
          "base_uri": "https://localhost:8080/"
        },
        "id": "NmHEB7RzbM6l",
        "outputId": "ae9cfca9-4e7b-451d-cdf5-cc913887bbcf"
      },
      "execution_count": null,
      "outputs": [
        {
          "output_type": "execute_result",
          "data": {
            "text/plain": [
              "3"
            ]
          },
          "metadata": {},
          "execution_count": 18
        }
      ]
    },
    {
      "cell_type": "markdown",
      "source": [
        "### Использование локальных переменных\n",
        "\n",
        "Теперь рассмотрим примеры кода c ускореннием с помощью локальных переменных"
      ],
      "metadata": {
        "id": "4POHgLU4cStS"
      }
    },
    {
      "cell_type": "code",
      "source": [
        "#  Пример #1\n",
        "class FastClass:\n",
        "\n",
        "    def do_stuff(self):\n",
        "        temp = self.value  # это ускорит цикл\n",
        "        for i in range(10000):\n",
        "          temp = i # Выполняем тут некие операции с `temp`\n",
        "\n",
        "#  Пример #2\n",
        "import random\n",
        "\n",
        "def fast_function():\n",
        "    r = random.random\n",
        "    for i in range(10000):\n",
        "        print(r())  # здесь вызов `r()` быстрее, чем был бы вызов random.random()\n"
      ],
      "metadata": {
        "id": "50AXegzgcZg6"
      },
      "execution_count": 5,
      "outputs": []
    },
    {
      "cell_type": "markdown",
      "source": [
        "### Использование функций\n",
        "\n",
        "Здесь все просто, нужно использовать функции, включая глобальную функцию main(), для ускорения кода"
      ],
      "metadata": {
        "id": "Pq3-HEgcc0QX"
      }
    },
    {
      "cell_type": "code",
      "source": [
        "def main():\n",
        "    ...  # Весь код, который раньше был глобальным\n",
        "\n",
        "main()\n"
      ],
      "metadata": {
        "id": "XGaYV2EWc92u"
      },
      "execution_count": null,
      "outputs": []
    },
    {
      "cell_type": "markdown",
      "source": [
        "### Отсутствие обращения к атрибутам\n",
        "В некоторых случаях оператор \".\" может замедлить выполнения программы, рассмотрим на примерах"
      ],
      "metadata": {
        "id": "Im5ZjMWVdCvp"
      }
    },
    {
      "cell_type": "code",
      "source": [
        "#  Медленно:\n",
        "import re\n",
        "\n",
        "def slow_func():\n",
        "    for i in range(10000):\n",
        "        re.findall(regex, line)  # Медленно!\n",
        "\n",
        "#  Быстро:\n",
        "from re import findall\n",
        "\n",
        "def fast_func():\n",
        "    for i in range(10000):\n",
        "        findall(regex, line)  # Быстрее!\n"
      ],
      "metadata": {
        "id": "BPbHxAkNdaq6"
      },
      "execution_count": null,
      "outputs": []
    },
    {
      "cell_type": "markdown",
      "source": [
        "### Испльзование строк\n",
        "Их использование может очень сильно замедлить выполнение программы. В частности, речь идёт о форматировании строк с использованием %s и .format()"
      ],
      "metadata": {
        "id": "yKvCbamldgAu"
      }
    },
    {
      "cell_type": "code",
      "source": [
        "from string import Template\n"
      ],
      "metadata": {
        "id": "JA38AvnleIUp"
      },
      "execution_count": null,
      "outputs": []
    },
    {
      "cell_type": "code",
      "source": [
        "s = \"gdfgdf\"\n",
        "t = \"gfsgsdfgdfsgsdfgsdfg\"\n",
        "\n",
        "f'{s} {t}'  # Быстро!\n",
        "s + '  ' + t\n",
        "' '.join((s, t))\n",
        "'%s %s' % (s, t)\n",
        "'{} {}'.format(s, t)\n",
        "Template('$s $t').substitute(s=s, t=t)  # Медленно!\n"
      ],
      "metadata": {
        "colab": {
          "base_uri": "https://localhost:8080/",
          "height": 36
        },
        "id": "kH_VZ9N3dshD",
        "outputId": "3ae36fe2-ce17-4260-d452-f1d20a3a6b7b"
      },
      "execution_count": null,
      "outputs": [
        {
          "output_type": "execute_result",
          "data": {
            "text/plain": [
              "'gdfgdf gfsgsdfgdfsgsdfgsdfg'"
            ],
            "application/vnd.google.colaboratory.intrinsic+json": {
              "type": "string"
            }
          },
          "metadata": {},
          "execution_count": 23
        }
      ]
    },
    {
      "cell_type": "markdown",
      "source": [
        "### py-spy\n",
        "Существую ситуации, когда локальная отладка кода недоступна, тогда следует использовать пакет py-spy. Это — профилировщик, способный исследовать программы, которые уже запущены. Допустим, что slow_program.py это программа, которая выполняется длительное время, тогда ее вызов будет выглядеть вот так, но к сожалению в google colab нельзя получить id процесса, с помощью \"ps\" или других подобных инструментов."
      ],
      "metadata": {
        "id": "sXX2XEyGeXpm"
      }
    },
    {
      "cell_type": "code",
      "source": [
        "!pip install py-spy\n",
        "!python BD_lab1/slow_program.py &\n",
        "![1] 1129587\n",
        "!ps -A -o pid,cmd | grep python\n",
        "...\n",
        "!1129587 python BD_lab1/slow_program.py\n",
        "!1130365 grep python\n",
        "!sudo env \"PATH=$PATH\" py-spy top --pid 1129587\n"
      ],
      "metadata": {
        "colab": {
          "base_uri": "https://localhost:8080/"
        },
        "id": "ORRetyuNerek",
        "outputId": "5dc193be-dfb9-42a2-a142-041bb1866ed9"
      },
      "execution_count": 6,
      "outputs": [
        {
          "output_type": "stream",
          "name": "stdout",
          "text": [
            "Collecting py-spy\n",
            "  Downloading py_spy-0.4.0-py2.py3-none-manylinux_2_5_x86_64.manylinux1_x86_64.whl.metadata (16 kB)\n",
            "Downloading py_spy-0.4.0-py2.py3-none-manylinux_2_5_x86_64.manylinux1_x86_64.whl (2.7 MB)\n",
            "\u001b[2K   \u001b[90m━━━━━━━━━━━━━━━━━━━━━━━━━━━━━━━━━━━━━━━━\u001b[0m \u001b[32m2.7/2.7 MB\u001b[0m \u001b[31m27.6 MB/s\u001b[0m eta \u001b[36m0:00:00\u001b[0m\n",
            "\u001b[?25hInstalling collected packages: py-spy\n",
            "Successfully installed py-spy-0.4.0\n",
            "/bin/bash: line 1: [1]: command not found\n",
            "     67 [python3] <defunct>\n",
            "     68 python3 /usr/local/bin/colab-fileshim.py\n",
            "     89 /usr/bin/python3 /usr/local/bin/jupyter-notebook --debug --transport=\"ipc\" --ip=172.28.0.12 \n",
            "    415 /usr/bin/python3 -m colab_kernel_launcher -f /root/.local/share/jupyter/runtime/kernel-7cd24\n",
            "    450 /usr/bin/python3 /usr/local/lib/python3.10/dist-packages/debugpy/adapter --for-server 50103 \n",
            "   1054 /bin/bash -c ps -A -o pid,cmd | grep python\n",
            "   1056 grep python\n",
            "/bin/bash: line 1: 1129587: command not found\n",
            "/bin/bash: line 1: 1130365: command not found\n",
            "Error: Failed to get process executable name. Check that the process is running.\n",
            "Reason: No such file or directory (os error 2)\n",
            "Reason: No such file or directory (os error 2)\n"
          ]
        }
      ]
    },
    {
      "cell_type": "markdown",
      "source": [
        "### Более глубокое исследование кода\n",
        "Если рассмотренные выше профилировщики не помогли решить проблему, то можно использовать line_profiler, он может помочь выяснить сколько выполняется каждая строка, рассмотрим на примере slow_program.py"
      ],
      "metadata": {
        "id": "R3M1-Nvlf1eJ"
      }
    },
    {
      "cell_type": "code",
      "source": [
        "!pip install line_profiler\n",
        "!kernprof -l -v BD_lab1/slow_program_line_profile.py"
      ],
      "metadata": {
        "colab": {
          "base_uri": "https://localhost:8080/"
        },
        "id": "v_VWWun-gKCM",
        "outputId": "b82ff19e-a875-42ab-d76e-dfe08caa4f9c"
      },
      "execution_count": 9,
      "outputs": [
        {
          "output_type": "stream",
          "name": "stdout",
          "text": [
            "Requirement already satisfied: line_profiler in /usr/local/lib/python3.10/dist-packages (4.2.0)\n",
            "Wrote profile results to slow_program_line_profile.py.lprof\n",
            "Timer unit: 1e-06 s\n",
            "\n",
            "Total time: 16.2094 s\n",
            "File: BD_lab1/slow_program_line_profile.py\n",
            "Function: exp at line 4\n",
            "\n",
            "Line #      Hits         Time  Per Hit   % Time  Line Contents\n",
            "==============================================================\n",
            "     4                                           @profile\n",
            "     5                                           def exp(x):\n",
            "     6         3          5.9      2.0      0.0      getcontext().prec += 2\n",
            "     7         3          1.5      0.5      0.0      i, lasts, s, fact, num = 0, 0, 1, 1, 1\n",
            "     8      4605       5452.1      1.2      0.0      while s != lasts:\n",
            "     9      4602       1410.8      0.3      0.0          lasts = s\n",
            "    10      4602       3545.6      0.8      0.0          i += 1\n",
            "    11      4602       9331.6      2.0      0.1          fact *= i\n",
            "    12      4602       3769.9      0.8      0.0          num *= x\n",
            "    13      4602   16185833.2   3517.1     99.9          s += num / fact\n",
            "    14         3         24.3      8.1      0.0      getcontext().prec -= 2\n",
            "    15         3          6.6      2.2      0.0      return +s\n",
            "\n"
          ]
        }
      ]
    },
    {
      "cell_type": "markdown",
      "source": [
        "### Профилирование ОЗУ\n",
        "Для профилирования ОЗУ нам поможет memory_profiler"
      ],
      "metadata": {
        "id": "AI1_khgrhLx7"
      }
    },
    {
      "cell_type": "code",
      "source": [
        "!pip install memory_profiler psutil\n",
        "!python -m memory_profiler BD_lab1/slow_program_with_profile.py\n"
      ],
      "metadata": {
        "colab": {
          "base_uri": "https://localhost:8080/"
        },
        "id": "QVcANZSChYFV",
        "outputId": "6a8667b1-d11d-491a-c90b-cd068039e1e8"
      },
      "execution_count": 10,
      "outputs": [
        {
          "output_type": "stream",
          "name": "stdout",
          "text": [
            "Collecting memory_profiler\n",
            "  Downloading memory_profiler-0.61.0-py3-none-any.whl.metadata (20 kB)\n",
            "Requirement already satisfied: psutil in /usr/local/lib/python3.10/dist-packages (5.9.5)\n",
            "Downloading memory_profiler-0.61.0-py3-none-any.whl (31 kB)\n",
            "Installing collected packages: memory_profiler\n",
            "Successfully installed memory_profiler-0.61.0\n",
            "Filename: BD_lab1/slow_program_with_profile.py\n",
            "\n",
            "Line #    Mem usage    Increment  Occurrences   Line Contents\n",
            "=============================================================\n",
            "     4     38.1 MiB     38.1 MiB           1   @profile\n",
            "     5                                         def exp(x):\n",
            "     6     38.1 MiB      0.0 MiB           1       getcontext().prec += 2\n",
            "     7     38.1 MiB      0.0 MiB           1       i, lasts, s, fact, num = 0, 0, 1, 1, 1\n",
            "     8     38.1 MiB      0.0 MiB         310       while s != lasts:\n",
            "     9     38.1 MiB      0.0 MiB         309           lasts = s\n",
            "    10     38.1 MiB      0.0 MiB         309           i += 1\n",
            "    11     38.1 MiB      0.0 MiB         309           fact *= i\n",
            "    12     38.1 MiB      0.0 MiB         309           num *= x\n",
            "    13     38.1 MiB      0.0 MiB         309           s += num / fact\n",
            "    14     38.1 MiB      0.0 MiB           1       getcontext().prec -= 2\n",
            "    15     38.1 MiB      0.0 MiB           1       return +s\n",
            "\n",
            "\n",
            "Filename: BD_lab1/slow_program_with_profile.py\n",
            "\n",
            "Line #    Mem usage    Increment  Occurrences   Line Contents\n",
            "=============================================================\n",
            "     4     38.5 MiB     38.5 MiB           1   @profile\n",
            "     5                                         def exp(x):\n",
            "     6     38.5 MiB      0.0 MiB           1       getcontext().prec += 2\n",
            "     7     38.5 MiB      0.0 MiB           1       i, lasts, s, fact, num = 0, 0, 1, 1, 1\n",
            "     8     38.5 MiB      0.0 MiB         650       while s != lasts:\n",
            "     9     38.5 MiB      0.0 MiB         649           lasts = s\n",
            "    10     38.5 MiB      0.0 MiB         649           i += 1\n",
            "    11     38.5 MiB      0.0 MiB         649           fact *= i\n",
            "    12     38.5 MiB      0.0 MiB         649           num *= x\n",
            "    13     38.5 MiB      0.0 MiB         649           s += num / fact\n",
            "    14     38.5 MiB      0.0 MiB           1       getcontext().prec -= 2\n",
            "    15     38.5 MiB      0.0 MiB           1       return +s\n",
            "\n",
            "\n",
            "Filename: BD_lab1/slow_program_with_profile.py\n",
            "\n",
            "Line #    Mem usage    Increment  Occurrences   Line Contents\n",
            "=============================================================\n",
            "     4     38.5 MiB     38.5 MiB           1   @profile\n",
            "     5                                         def exp(x):\n",
            "     6     38.5 MiB      0.0 MiB           1       getcontext().prec += 2\n",
            "     7     38.5 MiB      0.0 MiB           1       i, lasts, s, fact, num = 0, 0, 1, 1, 1\n",
            "     8     38.5 MiB      0.0 MiB        3645       while s != lasts:\n",
            "     9     38.5 MiB      0.0 MiB        3644           lasts = s\n",
            "    10     38.5 MiB      0.0 MiB        3644           i += 1\n",
            "    11     38.5 MiB      0.0 MiB        3644           fact *= i\n",
            "    12     38.5 MiB      0.0 MiB        3644           num *= x\n",
            "    13     38.5 MiB      0.0 MiB        3644           s += num / fact\n",
            "    14     38.5 MiB      0.0 MiB           1       getcontext().prec -= 2\n",
            "    15     38.5 MiB      0.0 MiB           1       return +s\n",
            "\n",
            "\n"
          ]
        }
      ]
    },
    {
      "cell_type": "markdown",
      "source": [
        "### Другие способы оптимизации\n",
        "Также существую иные способы оптимизации, например PyPy - это пакет, который способен перекомпилировать python в С"
      ],
      "metadata": {
        "id": "YzO4rk8tjrJE"
      }
    },
    {
      "cell_type": "code",
      "source": [
        "!apt-get install pypy"
      ],
      "metadata": {
        "colab": {
          "base_uri": "https://localhost:8080/"
        },
        "id": "eQavt8LekDFq",
        "outputId": "206d6a55-ad75-4b58-8271-af308e4a1757"
      },
      "execution_count": 11,
      "outputs": [
        {
          "output_type": "stream",
          "name": "stdout",
          "text": [
            "Reading package lists... Done\n",
            "Building dependency tree... Done\n",
            "Reading state information... Done\n",
            "The following additional packages will be installed:\n",
            "  pypy-lib\n",
            "Suggested packages:\n",
            "  pypy-doc pypy-tk\n",
            "The following NEW packages will be installed:\n",
            "  pypy pypy-lib\n",
            "0 upgraded, 2 newly installed, 0 to remove and 49 not upgraded.\n",
            "Need to get 16.2 MB of archives.\n",
            "After this operation, 88.3 MB of additional disk space will be used.\n",
            "Get:1 http://archive.ubuntu.com/ubuntu jammy/universe amd64 pypy-lib amd64 7.3.9+dfsg-1 [2,484 kB]\n",
            "Get:2 http://archive.ubuntu.com/ubuntu jammy/universe amd64 pypy amd64 7.3.9+dfsg-1 [13.7 MB]\n",
            "Fetched 16.2 MB in 1s (30.9 MB/s)\n",
            "Selecting previously unselected package pypy-lib:amd64.\n",
            "(Reading database ... 123635 files and directories currently installed.)\n",
            "Preparing to unpack .../pypy-lib_7.3.9+dfsg-1_amd64.deb ...\n",
            "Unpacking pypy-lib:amd64 (7.3.9+dfsg-1) ...\n",
            "Setting up pypy-lib:amd64 (7.3.9+dfsg-1) ...\n",
            "Selecting previously unselected package pypy.\n",
            "(Reading database ... 124919 files and directories currently installed.)\n",
            "Preparing to unpack .../pypy_7.3.9+dfsg-1_amd64.deb ...\n",
            "Unpacking pypy (7.3.9+dfsg-1) ...\n",
            "Setting up pypy (7.3.9+dfsg-1) ...\n",
            "running pypy rtupdate hooks for 7.3\n",
            "running pypy post-rtupdate hooks for 7.3\n",
            "Processing triggers for man-db (2.10.2-1) ...\n"
          ]
        }
      ]
    },
    {
      "cell_type": "code",
      "source": [
        "!time python BD_lab1/slow_program.py\n",
        "!time pypy BD_lab1/slow_program.py"
      ],
      "metadata": {
        "colab": {
          "base_uri": "https://localhost:8080/"
        },
        "id": "xEizzbj7kRwF",
        "outputId": "e24ada70-24ef-48db-c2f2-d2c61c2a2cf0"
      },
      "execution_count": 12,
      "outputs": [
        {
          "output_type": "stream",
          "name": "stdout",
          "text": [
            "\n",
            "real\t0m15.269s\n",
            "user\t0m15.022s\n",
            "sys\t0m0.017s\n",
            "\n",
            "real\t0m3.874s\n",
            "user\t0m3.679s\n",
            "sys\t0m0.051s\n"
          ]
        }
      ]
    },
    {
      "cell_type": "markdown",
      "source": [
        "### Проблемы PyPY\n",
        "Этот инструмент поддерживает проекты, нуждающиеся в C-привязках, такие, как numpy, но это создаёт значительную дополнительную нагрузку на систему, что сильно замедляет соответствующие библиотеки, сводя на нет другие улучшения производительности. PyPy, кроме того, не решает проблем с производительностью в ситуациях, когда применяются внешние библиотеки, или в случаях, когда речь идёт о работе с базами данных. И, аналогично, если речь идёт о программах, производительность которых привязана к подсистеме ввода/вывода, не стоит ожидать значительной выгоды от применения PyPy.\n",
        "Существуют другие решения, если вы готовы идти на компромисы такие как prometeo"
      ],
      "metadata": {
        "id": "7QbgEk1wk8lH"
      }
    }
  ]
}